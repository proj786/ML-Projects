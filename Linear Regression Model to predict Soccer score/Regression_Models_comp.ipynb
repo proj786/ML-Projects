{
  "cells": [
    {
      "cell_type": "markdown",
      "id": "oQMgjl1mocYb",
      "metadata": {
        "id": "oQMgjl1mocYb"
      },
      "source": [
        "# **Build Regression (Linear,Ridge,Lasso) Models in NumPy Python**"
      ]
    },
    {
      "cell_type": "markdown",
      "id": "dLjj6pyXoflx",
      "metadata": {
        "id": "dLjj6pyXoflx"
      },
      "source": [
        "## **Project Overview**\n",
        "\n",
        "\n",
        "\n",
        "The English Premier League is one of the world's most-watched soccer leagues, with an estimated audience of 12 million people per game.\n",
        "With the substantial financial benefits, all significant teams of EPL are interested in Analytics and AI. Regarding sports analytics, machine learning and artificial intelligence (AI) have become extremely popular. The sports entertainment sector and the relevant stakeholders extensively use sophisticated algorithms to improve earnings and reduce business risk associated with selecting or betting on the wrong players.\n",
        "\n",
        "\n",
        "<br>\n",
        "\n",
        "![image](https://cdn.pixabay.com/photo/2016/04/15/20/28/football-1331838__340.jpg)\n",
        "\n",
        "<br>\n",
        "\n",
        "\n",
        "Regression is one of the foundational techniques in Machine Learning. As one of the most well-understood algorithms, linear regression plays a vital role in solving real-life problems.\n",
        "\n",
        "This project explains how linear regression works and how to build various regression models such as linear regression, ridge regression, lasso regression, and decision tree from scratch using the NumPy module."
      ]
    },
    {
      "cell_type": "markdown",
      "id": "IloK2kAYoipi",
      "metadata": {
        "id": "IloK2kAYoipi"
      },
      "source": [
        "## **Who is this notebook intended for?**\n",
        "\n",
        "Regression is one of the foundational techniques in Machine Learning. Being one of the\n",
        "most well-understood algorithms, beginners need some help to understand\n",
        "fundamental terminology related to regression. This is the second notebook out of the three notebooks for this project.\n",
        "\n",
        "<br>\n",
        "\n",
        "![student](https://img.freepik.com/premium-vector/man-working-with-laptop-cartoon-illustration-labour-day-concept-white-isolated-flat-cartoon-style_75802-203.jpg?w=400)\n",
        "\n",
        "This notebook is intended for anyone who wants to understand how to build regression models from scratch using Numpy. It is suitable for individuals who are new to machine learning and want to gain a deeper understanding of the fundamentals of linear regression, ridge regression, and lasso regression. It is also suitable for individuals who have some experience in machine learning but want to learn how to implement these regression techniques using Numpy.\n",
        "\n",
        "In this notebook, we walk you through the process of building regression models from scratch using Numpy, which will help you gain a deeper understanding of how these models work. We provide detailed explanations of each step, including the math behind these models, to ensure that you understand the concepts thoroughly. By the end of this notebook, you will have a good understanding of how to build regression models from scratch, which you can apply to other machine learning projects.\n",
        "\n",
        "\n",
        "\n",
        "\n"
      ]
    },
    {
      "cell_type": "markdown",
      "id": "wsWyR-xD0Di8",
      "metadata": {
        "id": "wsWyR-xD0Di8"
      },
      "source": [
        "## **Learning Outcomes**\n",
        "\n",
        "* Understand the importance of preprocessing data and remove correlated features and drop rows with missing data from the dataset.\n",
        "\n",
        "* Understand the need for splitting data into training and test sets and write a function to create a train-test split from scratch using NumPy.\n",
        "\n",
        "* Use the train-test split function to split the dataset into training and testing sets.\n",
        "\n",
        "* Understand the differences between linear, ridge, and lasso regression models and their respective loss functions.\n",
        "\n",
        "* Write classes for linear, ridge, and lasso regression models from scratch using NumPy.\n",
        "\n",
        "* Train the linear, ridge, and lasso regression models using the training data.\n",
        "Use the trained models to predict the output for the testing set and evaluate the performance of the models using the mean squared error and R-squared metrics.\n",
        "\n",
        "* Compare the performance of the three regression models and select the best model based on the evaluation metrics."
      ]
    },
    {
      "cell_type": "markdown",
      "id": "IO7BT4Uoe24f",
      "metadata": {
        "id": "IO7BT4Uoe24f"
      },
      "source": [
        "## **Execution Instructions**\n",
        "<br>\n",
        "\n",
        "### Option 1: Running on your computer locally\n",
        "\n",
        "To run the notebook on your local system set up a [python](https://www.python.org/) environment. Set up the [jupyter notebook](https://jupyter.org/install) with python or by using [anaconda distribution](https://anaconda.org/anaconda/jupyter). Download the notebook and open a jupyter notebook to run the code on local system.\n",
        "\n",
        "The notebook can also be executed by using [Visual Studio Code](https://code.visualstudio.com/), and [PyCharm](https://www.jetbrains.com/pycharm/).\n",
        "<br>\n",
        "<br>\n",
        "\n",
        "### Option 2: Execution with [ProjectPro Lab](https://www.projectpro.io/user/my-labs)\n",
        "\n",
        "To run the notebook on ProjectPro Lab click on the Open Code Lab button on [project page ](https://www.projectpro.io/project/hackerday-project/project-title/build%20numpy%20regression%20models#sub-about-hackerday).\n",
        "Watch how to run the code using lab [here](https://www.projectpro.io/user/my-labs).\n",
        "<br>\n",
        "<br>\n",
        "\n",
        "### Option 3: Executing with Colab\n",
        "Colab, or \"Collaboratory\", allows you to write and execute Python in your browser, with access to GPUs free of charge and easy sharing.\n",
        "\n",
        "You can run the code using [Google Colab](https://colab.research.google.com/) by uploading the ipython notebook.\n",
        "\n"
      ]
    },
    {
      "cell_type": "markdown",
      "id": "Gi3iC9e-1hIy",
      "metadata": {
        "id": "Gi3iC9e-1hIy"
      },
      "source": [
        "## **Approach**\n",
        "\n",
        "* Importing the required libraries and reading the dataset.\n",
        "* Data pre-processing\n",
        "  * Removing the missing data points\n",
        "  * Dropping categorical variables\n",
        "  * Checking for multi-collinearity and removal of highly correlated features\n",
        "* Creating train and test data by randomly shuffling data\n",
        "* Performing train test split\n",
        "* Model building using NumPy\n",
        "  * Linear Regression Model\n",
        "  * Ridge Regression Model\n",
        "  * Lasso Regression Model"
      ]
    },
    {
      "cell_type": "markdown",
      "id": "RWHRXnlp2ZNs",
      "metadata": {
        "id": "RWHRXnlp2ZNs"
      },
      "source": [
        "## **Important Libraries**\n",
        "\n",
        "* **pandas**: pandas is a fast, powerful, flexible, and easy-to-use open-source data analysis and manipulation tool built on top of the Python programming language. Refer to [documentation](https://pandas.pydata.org/) for more information.\n",
        "\n",
        "* **NumPy**: The fundamental package for scientific computing with Python. Fast and versatile, the NumPy vectorization, indexing, and broadcasting concepts are the de-facto standards of array computing today. NumPy offers comprehensive mathematical functions, random number generators, linear algebra routines, Fourier transforms, and more. Refer to [documentation](https://numpy.org/) for more information. pandas and NumPy are together used for most of the data analysis and manipulation in Python."
      ]
    },
    {
      "cell_type": "markdown",
      "id": "Lf-Lk0a42dig",
      "metadata": {
        "id": "Lf-Lk0a42dig"
      },
      "source": [
        "## **Install Packages**"
      ]
    },
    {
      "cell_type": "code",
      "execution_count": null,
      "id": "HK8d1pvM2gPR",
      "metadata": {
        "id": "HK8d1pvM2gPR"
      },
      "outputs": [],
      "source": [
        "import warnings\n",
        "warnings.filterwarnings('ignore')"
      ]
    },
    {
      "cell_type": "markdown",
      "id": "BXI5xzWEghDM",
      "metadata": {
        "id": "BXI5xzWEghDM"
      },
      "source": [
        "## **Data Reading from Different Sources**"
      ]
    },
    {
      "cell_type": "markdown",
      "id": "XWmuoDga5YtL",
      "metadata": {
        "id": "XWmuoDga5YtL"
      },
      "source": [
        "#### **1. Files**\n",
        "\n",
        "In many cases, the data is stored in local system. To read the data from the local system, specify the correct path and filename.\n",
        "* **CSV format**\n",
        "\n",
        "Comma-separated values, also known as CSV, is a specific way to store data in a table structure format.\n",
        "The data used in this project is stored in a CSV file.\n",
        "Click [here](https://www.projectpro.io/project/hackerday-project/project-title/build%20numpy%20regression%20models#sub-hackerday-resources) to download the data used in this project.\n",
        "\n",
        "Use following code to read data from csv file using pandas.\n",
        "```\n",
        "import pandas as pd\n",
        "csv_file_path= \"D:/ProjectPro/Build-Regression-(Linear,Ridge,Lasso)-Models-in-NumPy-Python/data/EPL_Soccer_MLR_LR.csv\"\n",
        "df = pd.read_csv(csv_file_path)\n",
        "```\n",
        "With appropriate csv_file_path, pd.read_csv() function will read the data and store it in df variable.\n",
        "\n",
        "If you get *FileNotFoundError or No such file or directory*, try checking the path provided in the function. It's possible that python is not able to find the file or directory at a given location.\n",
        "\n",
        "<br>\n",
        "\n",
        "* **Public URL**\n",
        "\n",
        "pandas.read_csv() method also works if the data is available on any public URL.\n",
        "In this case, the data is made exclusively available for ProjectPro users [here](https://s3.amazonaws.com/projex.dezyre.com/build-numpy-regression-models/materials/EPL_Soccer_MLR_LR.csv).\n",
        "\n",
        "```\n",
        "import pandas as pd\n",
        "\n",
        "data_url=\"https://s3.amazonaws.com/projex.dezyre.com/build-numpy-regression-models/materials/EPL_Soccer_MLR_LR.csv\"\n",
        "\n",
        "df = pd.read_csv(data_url)\n",
        "\n",
        "```\n",
        "\n",
        "<br>\n"
      ]
    },
    {
      "cell_type": "code",
      "execution_count": 1,
      "id": "f7e40ba9",
      "metadata": {
        "id": "f7e40ba9"
      },
      "outputs": [],
      "source": [
        "import numpy as np\n",
        "import pandas as pd"
      ]
    },
    {
      "cell_type": "code",
      "execution_count": null,
      "id": "eb350478",
      "metadata": {
        "id": "eb350478",
        "outputId": "ac16b5af-b5f7-498d-fa90-550c18879c0c"
      },
      "outputs": [
        {
          "name": "stdout",
          "output_type": "stream",
          "text": [
            "ACTUAL DF SHAPE :  (217, 13)\n"
          ]
        }
      ],
      "source": [
        "# Load the data as a data frame by using URL\n",
        "\n",
        "soccer_data_url=\"https://s3.amazonaws.com/projex.dezyre.com/build-numpy-regression-models/materials/EPL_Soccer_MLR_LR.csv\"\n",
        "df = pd.read_csv(soccer_data_url)\n",
        "print(\"ACTUAL DF SHAPE : \", df.shape)"
      ]
    },
    {
      "cell_type": "markdown",
      "id": "RMuzHMe5gsqn",
      "metadata": {
        "id": "RMuzHMe5gsqn"
      },
      "source": [
        "## **Data Dictionary**\n",
        "\n",
        "* PlayerName : Player Name\n",
        "\n",
        "* Club : Club of the player\n",
        "  1. MUN:Manchester United F.C.\n",
        "  2. CHE: Chelsea F.C.\n",
        "  3. LIV: Liverpool F.C.\n",
        "\n",
        "* DistanceCovered(InKms): Average Kms distance covered by the player in each game\n",
        "\n",
        "* Goals: Average Goals per match\n",
        "\n",
        "* MinutestoGoalRatio: Minutes\n",
        "\n",
        "* ShotsPerGame: Average shots taken per game\n",
        "\n",
        "* AgentCharges: Agent Fees in h\n",
        "\n",
        "* BMI: Body-Mass index\n",
        "\n",
        "* Cost: Cost of each player in hundread thousand dollars\n",
        "\n",
        "* PreviousClubCost: Previous club cost in hundread thousand dollars\n",
        "\n",
        "* Height: Height of player in cm\n",
        "\n",
        "* Weight: Weight of player in kg\n",
        "\n",
        "* Score: Average score per match\n"
      ]
    },
    {
      "cell_type": "code",
      "execution_count": null,
      "id": "8761fa74",
      "metadata": {
        "id": "8761fa74",
        "outputId": "b9365370-ad20-459c-f100-f3a7f0deb4a5"
      },
      "outputs": [
        {
          "data": {
            "text/html": [
              "<div>\n",
              "<style scoped>\n",
              "    .dataframe tbody tr th:only-of-type {\n",
              "        vertical-align: middle;\n",
              "    }\n",
              "\n",
              "    .dataframe tbody tr th {\n",
              "        vertical-align: top;\n",
              "    }\n",
              "\n",
              "    .dataframe thead th {\n",
              "        text-align: right;\n",
              "    }\n",
              "</style>\n",
              "<table border=\"1\" class=\"dataframe\">\n",
              "  <thead>\n",
              "    <tr style=\"text-align: right;\">\n",
              "      <th></th>\n",
              "      <th>PlayerName</th>\n",
              "      <th>Club</th>\n",
              "      <th>DistanceCovered(InKms)</th>\n",
              "      <th>Goals</th>\n",
              "      <th>MinutestoGoalRatio</th>\n",
              "      <th>ShotsPerGame</th>\n",
              "      <th>AgentCharges</th>\n",
              "      <th>BMI</th>\n",
              "      <th>Cost</th>\n",
              "      <th>PreviousClubCost</th>\n",
              "      <th>Height</th>\n",
              "      <th>Weight</th>\n",
              "      <th>Score</th>\n",
              "    </tr>\n",
              "  </thead>\n",
              "  <tbody>\n",
              "    <tr>\n",
              "      <th>0</th>\n",
              "      <td>Braund, Mr. Owen Harris</td>\n",
              "      <td>MUN</td>\n",
              "      <td>3.96</td>\n",
              "      <td>7.5</td>\n",
              "      <td>37.5</td>\n",
              "      <td>12.3</td>\n",
              "      <td>60.0</td>\n",
              "      <td>20.56</td>\n",
              "      <td>109.1</td>\n",
              "      <td>63.32</td>\n",
              "      <td>195.9</td>\n",
              "      <td>78.9</td>\n",
              "      <td>19.75</td>\n",
              "    </tr>\n",
              "    <tr>\n",
              "      <th>1</th>\n",
              "      <td>Allen, Mr. William Henry</td>\n",
              "      <td>MUN</td>\n",
              "      <td>4.41</td>\n",
              "      <td>8.3</td>\n",
              "      <td>38.2</td>\n",
              "      <td>12.7</td>\n",
              "      <td>68.0</td>\n",
              "      <td>20.67</td>\n",
              "      <td>102.8</td>\n",
              "      <td>58.55</td>\n",
              "      <td>189.7</td>\n",
              "      <td>74.4</td>\n",
              "      <td>21.30</td>\n",
              "    </tr>\n",
              "    <tr>\n",
              "      <th>2</th>\n",
              "      <td>Moran, Mr. James</td>\n",
              "      <td>MUN</td>\n",
              "      <td>4.14</td>\n",
              "      <td>5.0</td>\n",
              "      <td>36.4</td>\n",
              "      <td>11.6</td>\n",
              "      <td>21.0</td>\n",
              "      <td>21.86</td>\n",
              "      <td>104.6</td>\n",
              "      <td>55.36</td>\n",
              "      <td>177.8</td>\n",
              "      <td>69.1</td>\n",
              "      <td>19.88</td>\n",
              "    </tr>\n",
              "    <tr>\n",
              "      <th>3</th>\n",
              "      <td>McCarthy, Mr. Timothy J</td>\n",
              "      <td>MUN</td>\n",
              "      <td>4.11</td>\n",
              "      <td>5.3</td>\n",
              "      <td>37.3</td>\n",
              "      <td>12.6</td>\n",
              "      <td>69.0</td>\n",
              "      <td>21.88</td>\n",
              "      <td>126.4</td>\n",
              "      <td>57.18</td>\n",
              "      <td>185.0</td>\n",
              "      <td>74.9</td>\n",
              "      <td>23.66</td>\n",
              "    </tr>\n",
              "    <tr>\n",
              "      <th>4</th>\n",
              "      <td>Palsson, Master. Gosta Leonard</td>\n",
              "      <td>MUN</td>\n",
              "      <td>4.45</td>\n",
              "      <td>6.8</td>\n",
              "      <td>41.5</td>\n",
              "      <td>14.0</td>\n",
              "      <td>29.0</td>\n",
              "      <td>18.96</td>\n",
              "      <td>80.3</td>\n",
              "      <td>53.20</td>\n",
              "      <td>184.6</td>\n",
              "      <td>64.6</td>\n",
              "      <td>17.64</td>\n",
              "    </tr>\n",
              "  </tbody>\n",
              "</table>\n",
              "</div>"
            ],
            "text/plain": [
              "                       PlayerName Club  DistanceCovered(InKms)  Goals  \\\n",
              "0         Braund, Mr. Owen Harris  MUN                    3.96    7.5   \n",
              "1        Allen, Mr. William Henry  MUN                    4.41    8.3   \n",
              "2                Moran, Mr. James  MUN                    4.14    5.0   \n",
              "3         McCarthy, Mr. Timothy J  MUN                    4.11    5.3   \n",
              "4  Palsson, Master. Gosta Leonard  MUN                    4.45    6.8   \n",
              "\n",
              "   MinutestoGoalRatio  ShotsPerGame  AgentCharges    BMI   Cost  \\\n",
              "0                37.5          12.3          60.0  20.56  109.1   \n",
              "1                38.2          12.7          68.0  20.67  102.8   \n",
              "2                36.4          11.6          21.0  21.86  104.6   \n",
              "3                37.3          12.6          69.0  21.88  126.4   \n",
              "4                41.5          14.0          29.0  18.96   80.3   \n",
              "\n",
              "   PreviousClubCost  Height  Weight  Score  \n",
              "0             63.32   195.9    78.9  19.75  \n",
              "1             58.55   189.7    74.4  21.30  \n",
              "2             55.36   177.8    69.1  19.88  \n",
              "3             57.18   185.0    74.9  23.66  \n",
              "4             53.20   184.6    64.6  17.64  "
            ]
          },
          "execution_count": 6,
          "metadata": {},
          "output_type": "execute_result"
        }
      ],
      "source": [
        "df.head()"
      ]
    },
    {
      "cell_type": "markdown",
      "id": "68WjXjFmljLK",
      "metadata": {
        "id": "68WjXjFmljLK"
      },
      "source": [
        "## **Data Preprocessing**"
      ]
    },
    {
      "cell_type": "markdown",
      "id": "OrYT4dJFkFUa",
      "metadata": {
        "id": "OrYT4dJFkFUa"
      },
      "source": [
        "### **Handling Missing Values**\n",
        "\n",
        "Handling missing values is an important step in data preprocessing. Missing data can lead to biased results or affect the performance of machine learning models. There are several ways to handle missing values such as:\n",
        "\n",
        "* Dropping missing values: This approach involves dropping the rows or columns that contain missing values. However, this method may lead to loss of information, especially if a large number of rows or columns have missing values.\n",
        "\n",
        "* Imputing missing values: This approach involves filling in the missing values with a value that is either derived from other observations or estimated using statistical methods. Common imputation methods include mean imputation, median imputation, and regression imputation.\n",
        "\n",
        "* Using advanced methods: There are more advanced methods for handling missing data such as multiple imputation, k-nearest neighbors imputation, and matrix completion. These methods can be more accurate than simple imputation methods, but they may also be more computationally intensive.\n",
        "\n",
        "In general, the choice of how to handle missing values will depend on the specific problem and dataset. It is important to carefully consider the impact of missing values on the analysis and choose an appropriate method that balances the need for accurate results with the computational complexity of the method.\n",
        "\n",
        "\n",
        "\n"
      ]
    },
    {
      "cell_type": "code",
      "execution_count": null,
      "id": "52295c58",
      "metadata": {
        "id": "52295c58"
      },
      "outputs": [],
      "source": [
        "#dropping Null and removing categorical columns\n",
        "df.dropna(axis=0, how='all', thresh=None, subset=None, inplace=True)\n",
        "new_df = df.select_dtypes(['number'])\n"
      ]
    },
    {
      "cell_type": "markdown",
      "id": "v_PVUc6Lkpbw",
      "metadata": {
        "id": "v_PVUc6Lkpbw"
      },
      "source": [
        "### **Finding Correlated Features**\n",
        "\n",
        "In the context of regression models, finding and removing correlated features is an essential step in preprocessing the data. Correlation is a statistical measure that describes how strongly two variables are related to each other. In the case of features, if two features have a high correlation with each other, it means that they provide similar information to the model, which can cause issues such as overfitting, multicollinearity, and reduced interpretability.\n",
        "\n",
        "To find correlated features, we typically calculate a correlation matrix between all pairs of features. We can use tools such as NumPy's corrcoef function or Pandas' corr method to compute the correlation matrix. Once we have the correlation matrix, we can identify highly correlated feature pairs by looking at the absolute values of the correlation coefficients.\n",
        "\n",
        "To know more about Multicollinearity and its affects, please go through the [Linear Regression Model Project in Python for Beginners Part 2 Notebook](https://s3.amazonaws.com/projex.dezyre.com/multiple-linear-regression-project-for-beginners/materials/regression_part2_.ipynb)."
      ]
    },
    {
      "cell_type": "code",
      "execution_count": null,
      "id": "79175c4b",
      "metadata": {
        "id": "79175c4b",
        "outputId": "3ccdf41e-21cd-4dbd-a1cb-dccfb4d3d6cb"
      },
      "outputs": [
        {
          "name": "stdout",
          "output_type": "stream",
          "text": [
            "org shape of X :  (202, 10)\n"
          ]
        }
      ],
      "source": [
        "# Finding correlated features\n",
        "X = new_df.iloc[:,:-1] # independent features\n",
        "y = new_df.iloc[:,-1] # dependent feature\n",
        "\n",
        "print(\"org shape of X : \", X.shape)\n",
        "\n",
        "correlated_features = set()\n",
        "correlation_matrix = X.corr()"
      ]
    },
    {
      "cell_type": "code",
      "execution_count": null,
      "id": "08106a4d",
      "metadata": {
        "id": "08106a4d",
        "outputId": "e2e18f2f-a53f-4df8-9ea5-f3a9f2639230"
      },
      "outputs": [
        {
          "data": {
            "text/html": [
              "<div>\n",
              "<style scoped>\n",
              "    .dataframe tbody tr th:only-of-type {\n",
              "        vertical-align: middle;\n",
              "    }\n",
              "\n",
              "    .dataframe tbody tr th {\n",
              "        vertical-align: top;\n",
              "    }\n",
              "\n",
              "    .dataframe thead th {\n",
              "        text-align: right;\n",
              "    }\n",
              "</style>\n",
              "<table border=\"1\" class=\"dataframe\">\n",
              "  <thead>\n",
              "    <tr style=\"text-align: right;\">\n",
              "      <th></th>\n",
              "      <th>DistanceCovered(InKms)</th>\n",
              "      <th>Goals</th>\n",
              "      <th>MinutestoGoalRatio</th>\n",
              "      <th>ShotsPerGame</th>\n",
              "      <th>AgentCharges</th>\n",
              "      <th>BMI</th>\n",
              "      <th>Cost</th>\n",
              "      <th>PreviousClubCost</th>\n",
              "      <th>Height</th>\n",
              "      <th>Weight</th>\n",
              "    </tr>\n",
              "  </thead>\n",
              "  <tbody>\n",
              "    <tr>\n",
              "      <th>DistanceCovered(InKms)</th>\n",
              "      <td>1.000000</td>\n",
              "      <td>0.147098</td>\n",
              "      <td>0.924964</td>\n",
              "      <td>0.888800</td>\n",
              "      <td>0.250865</td>\n",
              "      <td>0.299471</td>\n",
              "      <td>-0.403004</td>\n",
              "      <td>0.550975</td>\n",
              "      <td>0.358854</td>\n",
              "      <td>0.403743</td>\n",
              "    </tr>\n",
              "    <tr>\n",
              "      <th>Goals</th>\n",
              "      <td>0.147098</td>\n",
              "      <td>1.000000</td>\n",
              "      <td>0.153333</td>\n",
              "      <td>0.134721</td>\n",
              "      <td>0.131973</td>\n",
              "      <td>0.177032</td>\n",
              "      <td>0.137131</td>\n",
              "      <td>0.102734</td>\n",
              "      <td>0.076958</td>\n",
              "      <td>0.155844</td>\n",
              "    </tr>\n",
              "    <tr>\n",
              "      <th>MinutestoGoalRatio</th>\n",
              "      <td>0.924964</td>\n",
              "      <td>0.153333</td>\n",
              "      <td>1.000000</td>\n",
              "      <td>0.950757</td>\n",
              "      <td>0.258240</td>\n",
              "      <td>0.320527</td>\n",
              "      <td>-0.449135</td>\n",
              "      <td>0.583375</td>\n",
              "      <td>0.371192</td>\n",
              "      <td>0.423699</td>\n",
              "    </tr>\n",
              "    <tr>\n",
              "      <th>ShotsPerGame</th>\n",
              "      <td>0.888800</td>\n",
              "      <td>0.134721</td>\n",
              "      <td>0.950757</td>\n",
              "      <td>1.000000</td>\n",
              "      <td>0.308391</td>\n",
              "      <td>0.382524</td>\n",
              "      <td>-0.435429</td>\n",
              "      <td>0.610986</td>\n",
              "      <td>0.352322</td>\n",
              "      <td>0.455255</td>\n",
              "    </tr>\n",
              "    <tr>\n",
              "      <th>AgentCharges</th>\n",
              "      <td>0.250865</td>\n",
              "      <td>0.131973</td>\n",
              "      <td>0.258240</td>\n",
              "      <td>0.308391</td>\n",
              "      <td>1.000000</td>\n",
              "      <td>0.302556</td>\n",
              "      <td>-0.108243</td>\n",
              "      <td>0.317581</td>\n",
              "      <td>0.123255</td>\n",
              "      <td>0.273686</td>\n",
              "    </tr>\n",
              "    <tr>\n",
              "      <th>BMI</th>\n",
              "      <td>0.299471</td>\n",
              "      <td>0.177032</td>\n",
              "      <td>0.320527</td>\n",
              "      <td>0.382524</td>\n",
              "      <td>0.302556</td>\n",
              "      <td>1.000000</td>\n",
              "      <td>0.321116</td>\n",
              "      <td>0.713858</td>\n",
              "      <td>0.337097</td>\n",
              "      <td>0.845955</td>\n",
              "    </tr>\n",
              "    <tr>\n",
              "      <th>Cost</th>\n",
              "      <td>-0.403004</td>\n",
              "      <td>0.137131</td>\n",
              "      <td>-0.449135</td>\n",
              "      <td>-0.435429</td>\n",
              "      <td>-0.108243</td>\n",
              "      <td>0.321116</td>\n",
              "      <td>1.000000</td>\n",
              "      <td>-0.207749</td>\n",
              "      <td>-0.071253</td>\n",
              "      <td>0.154227</td>\n",
              "    </tr>\n",
              "    <tr>\n",
              "      <th>PreviousClubCost</th>\n",
              "      <td>0.550975</td>\n",
              "      <td>0.102734</td>\n",
              "      <td>0.583375</td>\n",
              "      <td>0.610986</td>\n",
              "      <td>0.317581</td>\n",
              "      <td>0.713858</td>\n",
              "      <td>-0.207749</td>\n",
              "      <td>1.000000</td>\n",
              "      <td>0.802119</td>\n",
              "      <td>0.930904</td>\n",
              "    </tr>\n",
              "    <tr>\n",
              "      <th>Height</th>\n",
              "      <td>0.358854</td>\n",
              "      <td>0.076958</td>\n",
              "      <td>0.371192</td>\n",
              "      <td>0.352322</td>\n",
              "      <td>0.123255</td>\n",
              "      <td>0.337097</td>\n",
              "      <td>-0.071253</td>\n",
              "      <td>0.802119</td>\n",
              "      <td>1.000000</td>\n",
              "      <td>0.780906</td>\n",
              "    </tr>\n",
              "    <tr>\n",
              "      <th>Weight</th>\n",
              "      <td>0.403743</td>\n",
              "      <td>0.155844</td>\n",
              "      <td>0.423699</td>\n",
              "      <td>0.455255</td>\n",
              "      <td>0.273686</td>\n",
              "      <td>0.845955</td>\n",
              "      <td>0.154227</td>\n",
              "      <td>0.930904</td>\n",
              "      <td>0.780906</td>\n",
              "      <td>1.000000</td>\n",
              "    </tr>\n",
              "  </tbody>\n",
              "</table>\n",
              "</div>"
            ],
            "text/plain": [
              "                        DistanceCovered(InKms)     Goals  MinutestoGoalRatio  \\\n",
              "DistanceCovered(InKms)                1.000000  0.147098            0.924964   \n",
              "Goals                                 0.147098  1.000000            0.153333   \n",
              "MinutestoGoalRatio                    0.924964  0.153333            1.000000   \n",
              "ShotsPerGame                          0.888800  0.134721            0.950757   \n",
              "AgentCharges                          0.250865  0.131973            0.258240   \n",
              "BMI                                   0.299471  0.177032            0.320527   \n",
              "Cost                                 -0.403004  0.137131           -0.449135   \n",
              "PreviousClubCost                      0.550975  0.102734            0.583375   \n",
              "Height                                0.358854  0.076958            0.371192   \n",
              "Weight                                0.403743  0.155844            0.423699   \n",
              "\n",
              "                        ShotsPerGame  AgentCharges       BMI      Cost  \\\n",
              "DistanceCovered(InKms)      0.888800      0.250865  0.299471 -0.403004   \n",
              "Goals                       0.134721      0.131973  0.177032  0.137131   \n",
              "MinutestoGoalRatio          0.950757      0.258240  0.320527 -0.449135   \n",
              "ShotsPerGame                1.000000      0.308391  0.382524 -0.435429   \n",
              "AgentCharges                0.308391      1.000000  0.302556 -0.108243   \n",
              "BMI                         0.382524      0.302556  1.000000  0.321116   \n",
              "Cost                       -0.435429     -0.108243  0.321116  1.000000   \n",
              "PreviousClubCost            0.610986      0.317581  0.713858 -0.207749   \n",
              "Height                      0.352322      0.123255  0.337097 -0.071253   \n",
              "Weight                      0.455255      0.273686  0.845955  0.154227   \n",
              "\n",
              "                        PreviousClubCost    Height    Weight  \n",
              "DistanceCovered(InKms)          0.550975  0.358854  0.403743  \n",
              "Goals                           0.102734  0.076958  0.155844  \n",
              "MinutestoGoalRatio              0.583375  0.371192  0.423699  \n",
              "ShotsPerGame                    0.610986  0.352322  0.455255  \n",
              "AgentCharges                    0.317581  0.123255  0.273686  \n",
              "BMI                             0.713858  0.337097  0.845955  \n",
              "Cost                           -0.207749 -0.071253  0.154227  \n",
              "PreviousClubCost                1.000000  0.802119  0.930904  \n",
              "Height                          0.802119  1.000000  0.780906  \n",
              "Weight                          0.930904  0.780906  1.000000  "
            ]
          },
          "execution_count": 9,
          "metadata": {},
          "output_type": "execute_result"
        }
      ],
      "source": [
        "correlation_matrix"
      ]
    },
    {
      "cell_type": "code",
      "execution_count": null,
      "id": "ee85d0ed",
      "metadata": {
        "id": "ee85d0ed",
        "outputId": "cf62624f-980e-40bc-b9d0-6ea769c33719"
      },
      "outputs": [
        {
          "name": "stdout",
          "output_type": "stream",
          "text": [
            "Correlated Features :  {'Height', 'MinutestoGoalRatio', 'Weight', 'ShotsPerGame'}\n"
          ]
        }
      ],
      "source": [
        "for i in range(len(correlation_matrix.columns)):\n",
        "    for j in range(i):\n",
        "        if abs(correlation_matrix.iloc[i, j]) > 0.8: #positively or negatively correlated\n",
        "            colname = correlation_matrix.columns[i]\n",
        "            correlated_features.add(colname)\n",
        "\n",
        "print(\"Correlated Features : \", correlated_features)"
      ]
    },
    {
      "cell_type": "code",
      "execution_count": null,
      "id": "4c8c7b84",
      "metadata": {
        "id": "4c8c7b84"
      },
      "outputs": [],
      "source": [
        "# Dropping Correlated features from X\n",
        "X.drop(columns=correlated_features, axis=1, inplace=True)\n",
        "print(\"Shape of X after dropping correlated features : \", X.shape)"
      ]
    },
    {
      "cell_type": "markdown",
      "id": "TfAvoVjklgSC",
      "metadata": {
        "id": "TfAvoVjklgSC"
      },
      "source": [
        "## **Train - Test Split**\n",
        "\n",
        "![train-test-split.png](data:image/png;base64,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)\n",
        "\n",
        "\n",
        "The data points are divided into two datasets, train and test, in a train test split method. The train data is used to train the model, and the model is then used to predict on the test data to see how the model performs on unseen data and whether it is overfitting or underfitting.\n",
        "\n",
        "In this project we are taking 80:20 ratio of train and test data.\n",
        "\n",
        "<br>\n",
        "\n"
      ]
    },
    {
      "cell_type": "code",
      "execution_count": null,
      "id": "b616b170",
      "metadata": {
        "id": "b616b170"
      },
      "outputs": [],
      "source": [
        "# Creating Train and Test data\n",
        "\n",
        "def shuffle_data(X, y, seed=None):\n",
        "    \"\"\"\n",
        "    Randomly shuffles the samples in X and y.\n",
        "    \"\"\"\n",
        "    # Set seed for random number generator if provided\n",
        "    if seed:\n",
        "        np.random.seed(seed)\n",
        "\n",
        "    # Create an array of indices that correspond to the samples in X and y\n",
        "    idx = np.arange(X.shape[0])\n",
        "\n",
        "    # Randomly shuffle the indices\n",
        "    np.random.shuffle(idx)\n",
        "\n",
        "    # Return the shuffled input features and target variable\n",
        "    try:\n",
        "        return X[idx], y[idx]\n",
        "    except:\n",
        "        return X.iloc[idx], y.iloc[idx]\n"
      ]
    },
    {
      "cell_type": "markdown",
      "id": "AnC2YU8Q3wsy",
      "metadata": {
        "id": "AnC2YU8Q3wsy"
      },
      "source": [
        "#### **Shuffle Data: Code Explanation**\n",
        "\n",
        "The `shuffle_data()` function takes three parameters: `X`,` y`, and `seed`. `X` and `y` are the input features and target variable, respectively, which can be either an `ndarray` or a` DataFrame`. The `seed` parameter is an optional integer that can be used to set the seed for the random number generator.\n",
        "\n",
        "The function first checks if a seed has been provided, and if so, sets the seed for the random number generator. Then, it creates an array of indices that correspond to the samples in `X` and `y` using the `arange()` function from NumPy. Next, it uses the `shuffle()` function from NumPy to randomly shuffle the indices.\n",
        "\n",
        "Finally, the function returns the shuffled input features and target variable. If `X` and `y` are DataFrame objects, the function uses the `iloc[]` indexer to retrieve the shuffled data.\n"
      ]
    },
    {
      "cell_type": "code",
      "execution_count": null,
      "id": "S_sxrB0U45Ut",
      "metadata": {
        "id": "S_sxrB0U45Ut"
      },
      "outputs": [],
      "source": [
        "def train_test_split(X, y, test_size=0.5, shuffle=True, seed=None):\n",
        "    \"\"\"\n",
        "    Splits the data into training and test sets.\n",
        "    \"\"\"\n",
        "\n",
        "    if shuffle:\n",
        "        # shuffle the data\n",
        "        X, y = shuffle_data(X, y, seed)\n",
        "\n",
        "    # Split the training data from test data in the ratio specified in test_size\n",
        "    split_i = len(y) - int(len(y) // (1 / test_size))\n",
        "    X_train, X_test = X[:split_i], X[split_i:]\n",
        "    y_train, y_test = y[:split_i], y[split_i:]\n",
        "\n",
        "    return X_train, X_test, y_train, y_test\n"
      ]
    },
    {
      "cell_type": "markdown",
      "id": "dWX2KTmh5RJG",
      "metadata": {
        "id": "dWX2KTmh5RJG"
      },
      "source": [
        "#### **Train Test Split: Code Explanation**\n",
        "\n",
        "This function takes in the input feature matrix `X` and the target variable `y` and splits the data into training and test sets. The proportion of the data to be included in the test set is specified by the `test_size` parameter, which defaults to 0.5. If `shuffle` is set to True, the data is shuffled before splitting. A random seed can be specified using the `seed` parameter.\n",
        "\n",
        "The `len(y)` returns the number of rows in the target variable `y`. The `//` operator performs floor division, which means that the result of `len(y) // (1 / test_size)` is the number of rows that should be in the test set. The `int` function is used to convert this result to an integer.\n",
        "\n",
        "`split_i` represents the index at which the data should be split, with the first split_i rows being used for training and the remaining rows being used for testing.\n",
        "\n",
        "The code then uses slicing to split the input data `X` into the training and testing sets. The `X[:split_i]` notation selects the first `split_i` rows of the data, while `X[split_i:]` selects the remaining rows. Similarly, the target variable y is split using the same index.\n",
        "\n",
        "The final result of the function is a tuple containing four arrays: X_train, X_test, y_train, and y_test, which represent the input and target variables for the training and testing sets.\n",
        "\n"
      ]
    },
    {
      "cell_type": "code",
      "execution_count": null,
      "id": "3HLGhnzr3uDD",
      "metadata": {
        "id": "3HLGhnzr3uDD"
      },
      "outputs": [],
      "source": [
        "# finally using the train_test_split() function to create a test set of 20% of the data with seed = 42\n",
        "X_train, X_test, y_train, y_test = train_test_split(X,y,test_size=0.2, seed=42)"
      ]
    },
    {
      "cell_type": "markdown",
      "id": "okDm_FHt7McC",
      "metadata": {
        "id": "okDm_FHt7McC"
      },
      "source": [
        "### **Did you know - I**\n",
        "\n",
        "Did you know that using a seed in randomization can be important for reproducibility of results? When a seed is set, the random numbers generated by the computer are deterministic, meaning they will always be the same. This can be helpful when testing and comparing different models or algorithms, as it ensures that the results are consistent and not affected by random chance."
      ]
    },
    {
      "cell_type": "markdown",
      "id": "LdIsjqDE8Q-2",
      "metadata": {
        "id": "LdIsjqDE8Q-2"
      },
      "source": [
        "## **Multiple Linear Regression**\n",
        "\n",
        "\n",
        "Linear regression, often known as simple regression, creates a relationship between two variables. Linear regression is represented visually as a straight line, with the slope determining how a change in one variable affects a change in the other. A linear regression relationship's y-intercept reflects one variable's value when the other's value is 0.\n",
        "\n",
        "Multiple linear regression estimates the relationship between two or more independent variables and one dependent variable.\n",
        "$$\\hat y = \\beta_0+\\beta_1x_1+\\dots \\beta_px_p+\\epsilon$$\n",
        "\n",
        "where $p$ is... number of features in the model.\n",
        "\n",
        "* For any given independent variable (x) value, y is the dependent variable's predicted value for the dependent variable (y).\n",
        "* $\\beta_0$ represents the intercept, or the predicted value of y, when x is 0.\n",
        "* $\\beta_1$ is the regression coefficient of variable $x_1$, which tells us how much y will change as $x_1$ increases or decreases.\n",
        "* $\\beta_p$is the regression coefficient of the last variable $x_p$, which tells us how much y will change as $x_p$ increases or decreases.\n",
        "* $x_1$ ... $x_p$ are the independent or predictor variables that help us predict y\n",
        "* $\\epsilon$ is the error left due to the incorrect calculation of the regression coefficients.\n",
        "\n",
        "\n",
        "To understand the basics of Linear Regression, cost function and least squares, refer to the [Linear Regression Model Project in Python for Beginners Part 1 Notebook](https://s3.amazonaws.com/projex.dezyre.com/fundamentals-simple-linear-regression-python-beginners/materials/regression_part_1.ipynb) where Simple Linear Regression and the mathematics behind it have been explained in detail.\n",
        "\n",
        "\n"
      ]
    },
    {
      "cell_type": "markdown",
      "id": "rNt0zE948jaW",
      "metadata": {
        "id": "rNt0zE948jaW"
      },
      "source": [
        "![mlr.png](data:image/png;base64,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)"
      ]
    },
    {
      "cell_type": "markdown",
      "id": "lSiax_jmL62o",
      "metadata": {
        "id": "lSiax_jmL62o"
      },
      "source": [
        "## **Linear Regression with Gradient Descent**\n",
        "\n",
        "\n",
        "Gradient descent is an optimization algorithm that is commonly used in machine learning to find the parameters (weights and biases) that minimize the cost function of a model. In the context of linear regression, the goal is to find the values of the weight vector (W) and the bias term (b) that best fit the training data.\n",
        "\n",
        "The basic idea of gradient descent is to iteratively update the weights and biases in the direction of the negative gradient of the cost function with respect to the weights and biases. The gradient is simply the vector of partial derivatives of the cost function with respect to each weight and bias. By taking steps in the direction of the negative gradient, the algorithm can gradually minimize the cost function.\n",
        "\n",
        "The steps involved in gradient descent are as follows:\n",
        "\n",
        "* Initialize the weight vector (W) and the bias term (b) to small random values.\n",
        "\n",
        "* Calculate the predicted values (y_hat) for the training data using the current values of the weight vector and the bias term.\n",
        "\n",
        "* Calculate the error (E) between the predicted values and the actual values of the training data.\n",
        "\n",
        "* Calculate the gradient of the cost function with respect to the weight vector and the bias term using the error calculated in step 3.\n",
        "\n",
        "* Update the weight vector and the bias term by taking a step in the direction of the negative gradient using the learning rate (alpha).\n",
        "\n",
        "* Repeat steps 2-5 until the cost function converges to a minimum.\n",
        "\n",
        "Given a cost function J and a set of parameters (W,b), the gradient of J with respect to the parameters can be calculated using partial derivatives\n",
        "\n",
        "\n",
        "\n",
        "$$J(w) = \\frac{1}{2n} \\sum_{i=1}^{n} (h_w(x^{(i)}) - y^{(i)})^2$$\n",
        "\n",
        "where $w$ is a vector of the model parameters, $n$ is the number of training examples, $x^{(i)}$ is the feature vector of the $i$-th example, $y^{(i)}$ is the corresponding target value, and $h_w(x)$ is the predicted value for $x$ using the model parameters $w$.\n",
        "\n",
        "The goal of gradient descent is to find the values of $w$ that minimize the cost function $J(w)$. The algorithm starts with an initial guess for $w$ and iteratively updates it using the following rule:\n",
        "\n",
        "$$w_j = w_j - \\alpha \\frac{\\partial J(w)}{\\partial w_j}$$\n",
        "\n",
        "where $\\alpha$ is the learning rate, which controls the step size of each update, and $\\frac{\\partial J(w)}{\\partial w_j}$ is the partial derivative of $J(w)$ with respect to the $j$-th parameter.\n",
        "\n",
        "In the case of linear regression, the partial derivative is:\n",
        "\n",
        "$$\\frac{\\partial J(w)}{\\partial w_j} = \\frac{1}{n} \\sum_{i=1}^{n} (h_w(x^{(i)}) - y^{(i)})x_j^{(i)}$$\n",
        "\n",
        "This means that the update rule for $w_j$ becomes:\n",
        "\n",
        "$$w_j = w_j - \\alpha \\frac{1}{n} \\sum_{i=1}^{n} (h_w(x^{(i)}) - y^{(i)})x_j^{(i)}$$\n",
        "\n",
        "The algorithm continues to update $w$ until the cost function $J(w)$ converges to a minimum value or until a maximum number of iterations is reached. The learning rate $\\alpha$ is a hyperparameter that needs to be tuned to ensure that the algorithm converges to the minimum value in a reasonable amount of time.\n",
        "\n",
        "\n",
        "\n"
      ]
    },
    {
      "cell_type": "markdown",
      "id": "_gi2-noS9swR",
      "metadata": {
        "id": "_gi2-noS9swR"
      },
      "source": [
        "## **Errors in Regression**\n",
        "\n",
        "The regression line regress towards the mean to create the best fit which essentially means that the errors are at the lowest. In the above plot, it is visible that the regression line is not able to exactly predict the true values. There is always going to be some space for errors.\n",
        "\n",
        "Let's understand the various errors in Regression:\n",
        "\n",
        "\n",
        "* The mean absolute error (MAE) is the most basic regression error statistic to grasp. We'll compute the residual for each data point individually, using only the absolute value of each so that negative and positive residuals don't cancel out. The average of all these residuals is then calculated. MAE essentially describes the typical magnitude of the residuals. <br>\n",
        "$$MAE = \\frac{1}{n}\\sum_{i=1}^{n}|y-\\hat y|$$\n",
        "\n",
        "* The mean square error (MSE) is identical to the mean absolute error (MAE) but squares the difference before aggregating all of them. The MSE will nearly always be greater than the MAE because we are squaring the difference. Because of this, we are unable to directly compare the MAE and MSE. We are limited to comparing the error metrics of our model to those of a rival model. The presence of outliers in our data makes the square term's impact on the MSE equation very clear. In MAE, each residual adds proportionally to the overall error, whereas in MSE, the error increases quadratically. As a result, our data outliers will ultimately result in a considerably bigger total error in the MSE than they will in the MAE. Similarly to this, our model will suffer more if it predicts values that are significantly different from the matching actual value.\n",
        "This means that in MSE as opposed to MAE, substantial disparities between actual and predicted values are punished more severely. <br>If we wish to limit the importance of outliers, we should use MAE because outlier residuals do not contribute as much to overall error as MSE. Finally, the decision between MSE and MAE is application-specific and depends on how large errors need to be handled.\n",
        "\n",
        "$$MSE= \\frac{1}{n}\\sum_{i=1}^{n}(y-\\hat y)^2$$\n",
        "\n",
        "\n",
        "* The root mean squared error (RMSE) is another error statistic you may come upon. It is the square root of the MSE, as the name implies. Because the MSE is squared, its units differ from the original output. RMSE is frequently used to transform the error metric back into comparable units, making interpretation easier. Outliers have a comparable effect on the MSE and RMSE because they both square the residual.\n",
        "\n",
        "$$RMSE= \\sqrt(\\frac{1}{n}\\sum_{i=1}^{n}(y-\\hat y)^2)$$\n",
        "\n",
        "\n",
        "* The percentage counterpart of MAE is the mean absolute percentage error (MAPE). Just as MAE is the average amount of error created by your model, MAPE is the average distance between the model's predictions and their associated outputs. MAPE, like MAE, has a clear meaning because percentages are easier for people to understand. Because of the use of absolute value, MAPE and MAE are both resistant to the effects of outliers.\n",
        "\n",
        "$$MAPE= \\frac{100\\%}{n}\\ \\sum_{i=1}^{n}\\left| \\frac{y-\\hat y}{y} \\right|$$"
      ]
    },
    {
      "cell_type": "markdown",
      "id": "VUsneILT_TO5",
      "metadata": {
        "id": "VUsneILT_TO5"
      },
      "source": [
        "### **Model Comparisons**\n",
        "\n",
        "* $R^2$: The $R^2$ or the coefficient of determination is the proportion of the variance in the dependent variable that is explained from the independent variable(s). $R^2$ is expressed between 0 and 1 for the level of variance explained.\n",
        "As we learned in the previous section, the ratio $\\frac{SSE}{TSS}$ should be low for a robust model, this ratio signifies the error or unexplained variance by the independent variable(s).\n",
        "Mathematically, $R^2$ or explained variance can be expressed as:\n",
        "\n",
        "$$ R^2 = 1 - \\frac{SSE}{TSS} $$\n",
        "\n",
        "* Adjusted $R^2$: For linear models, adjusted $R^2$ is a corrected goodness-of-fit statistic. It determines the proportion of variance in the target field explained by the input or inputs.\n",
        "$R^2$ tends to overestimate the goodness-of-fit of the linear regression. It always grows as the number of independent variables in the model grows.\n",
        "It happens because we tend to deduct a large amount (due to multiple variables) to calculate error as the number of independent variables increases. Hence, the ratio $\\frac{SSE}{TSS}$ is even lower than it should be and  $R^2$ seems to be high but it might not be an appropriate model for production data. It is adjusted to account for this overestimation. Considering N as the total sample size and p as the number of independent variables, adjusted $R^2$ can be expressed as:\n",
        "\n",
        "$$ \\text{Adjusted }  R^2 = 1 - \\frac{(1 - R^2)(N - 1)}{N - p - 1} $$"
      ]
    },
    {
      "cell_type": "markdown",
      "id": "JGh7JRwO_YlG",
      "metadata": {
        "id": "JGh7JRwO_YlG"
      },
      "source": [
        "## **Regularization**\n",
        "\n",
        "Before moving further ahead in the topic of Regularization, let us understand Underfitting and Overfitting properly.\n",
        "\n",
        "* **Underfitting**: Underfitting occurs when a statistical model or machine learning algorithm fails to capture the underlying trend of the data, i.e., it performs well on training data but poorly on testing data. Its occurrence merely indicates that our model or method does not adequately suit the data. It frequently occurs when we select a simpler model yet the data contains complicated non-linear patterns or when there is insufficient data to develop a linear model. The obvious approach is to build a complex model or increase the number of linear features in the data.\n",
        "\n",
        "* **Overfitting**: When a statistical model fails to produce correct predictions on testing data, it is said to be overfitted. When a model is trained with a large amount of data, it begins to learn from the noise and incorrect data entries in our data set. It usually occurs when we build a complex model on a simpler dataset.\n",
        "An overfitted model performs well on training data because it has memorized the patterns in the data, but it performs poorly on testing data. An under-fitted model, on the other hand, will perform worse on both datasets because it is unable to capture the trends and patterns underlying the dataset when training.\n",
        "\n",
        "**Regularization**\n",
        "\n",
        "Avoiding overfitting is one of the most important tasks of training your machine learning model. If the model is overfitting, it will not be able to generalise and have a low accuracy in real time scenario. This occurs when your model is trying to grab too much information including the noise from your training dataset. By noise, we mean data points that aren't truly representative of your data's true properties, but are instead random chance. Learning such data points makes your model more adaptable, but it also increases the risk of overfitting. Regularization is a type of regression in which the coefficient estimates are constrained, regularised, or shrunk towards zero. In other words, in order to avoid overfitting, it pushes the model to be more simpler by reducing or shrinking the weights.\n",
        "\n",
        "\n",
        "\n",
        "\n",
        "**Ridge or L2 Regularization**\n",
        "\n",
        "In simple linear regression, an optimization function or loss function known as the residual sum of squares is used to create a model that accurately predicts the value of Y. (RSS). With the help of this loss function, the model learns. The difference between the actual value and the expected output is measured using the loss function. The coefficients are chosen that minimise the loss function when applied to the training data. The RSS is changed by adding the shrinkage quantity or a penality factor to the ridge regression. The penalty term in L2 regularisation is equal to the square of the coefficient magnitude so that a greater term is subtracted while updating to new coefficient value using optimization algorithm and a smaller value is achieved.\n",
        "\n",
        "\n",
        "\n",
        "$$ RSS_{ridge} = \\sum_{i=1}^{n} (y_i - \\beta_0 - \\sum_{j=1}^{p} \\beta_j x_{ij})^2 + \\lambda \\sum_{j=1}^{p} \\beta_j^2 $$\n",
        "\n",
        "Here, the additional penalty term $\\lambda \\sum_{j=1}^{p} \\beta_j^2$ is added to the RSS in order to shrink the parameter estimates towards zero, while still allowing some of the information from the original data to remain. The amount of shrinkage is controlled by the tuning parameter $\\lambda$, which determines the strength of the penalty. As the $\\lambda$ increases, the values of the parameters approaches zero.\n",
        "\n",
        "**Lasso or L1 Regularization**\n",
        "\n",
        "On the other hand, L1 regularisation, also known as Lasso Regression, alters the RSS by adding a penalty equal to the absolute value of the weight coefficients.\n",
        "\n",
        "\n",
        "$$ RSS_{lasso} = \\sum_{i=1}^{n} (y_i - \\beta_0 - \\sum_{j=1}^{p} \\beta_j x_{ij})^2 + \\lambda \\sum_{j=1}^{p} |\\beta_j| $$\n",
        "\n",
        "Here, the penalty term $\\lambda \\sum_{j=1}^{p} |\\beta_j|$ forces some of the coefficients to be exactly equal to zero, effectively performing feature selection. The amount of shrinkage is again controlled by the tuning parameter $\\lambda$.\n",
        "\n",
        "**Differences between L1 and L2 Regularization**\n",
        "\n",
        "* One of the primary differences between L1 and L2 regularization is the way that the penalty is applied to the coefficients. With L1 regularization, the penalty is applied to the absolute value of the coefficient, while with L2 regularization, the penalty is applied to the squared value of the coefficient. This difference in the penalty function means that L1 regularization tends to drive some of the coefficients to exactly zero, effectively performing feature selection, while L2 regularization only shrinks the coefficients towards zero, but does not usually make them exactly zero.\n",
        "\n",
        "* Another difference between the two types of regularization is that L1 regularization tends to be more robust to outliers, while L2 regularization is more sensitive to them. This is because the L1 penalty is less affected by outliers, since the absolute value of the coefficient is always positive, while the L2 penalty is more influenced by outliers, since the squared value of the coefficient is always positive and grows more quickly than the absolute value as the coefficient becomes larger.\n",
        "\n",
        "* The choice between L1 and L2 regularization will depend on your specific problem and dataset. In general, L2 regularization is a good default choice, but if you have a large number of features and suspect that many of them may be irrelevant or redundant, L1 regularization may be more effective."
      ]
    },
    {
      "cell_type": "markdown",
      "id": "VWi00RsXH4yH",
      "metadata": {
        "id": "VWi00RsXH4yH"
      },
      "source": [
        "Watch the video [Understanding Ridge and Lasso regression](https://www.projectpro.io/project/hackerday-project/project-title/build%20numpy%20regression%20models#sub-hackerday-video-3) for understanding."
      ]
    },
    {
      "cell_type": "markdown",
      "id": "tk2QM3ASGYDZ",
      "metadata": {
        "id": "tk2QM3ASGYDZ"
      },
      "source": [
        "### **How regularization techniques affect machine learning models?**\n",
        "\n",
        "\n",
        "* The effect of lambda on the model:\n",
        "Lambda is a tuning parameter that decides the amount of penalty to be added to the model. A small value of lambda may result in underfitting, while a large value may result in overfitting. The optimal value of lambda can be found using cross-validation. (A technique that will be introduced in later projects.)\n",
        "\n",
        "* Feature selection: Lasso regularization has the unique property of setting some of the feature coefficients to zero, making it an effective feature selection method. Ridge regularization, on the other hand, does not have this property.\n",
        "\n",
        "* Interpretation of the coefficients: Ridge regularization shrinks the coefficients towards zero, but does not set them exactly to zero. This means that all features contribute to the model to some extent. Lasso regularization, on the other hand, can completely eliminate some features from the model, making it easier to interpret."
      ]
    },
    {
      "cell_type": "markdown",
      "id": "7hW57t38Exbh",
      "metadata": {
        "id": "7hW57t38Exbh"
      },
      "source": [
        "### **Why L1 regularization shrinks coefficients to exactly zero?**\n",
        "\n",
        "The penalty equation for Ridge is of a circle, and the smallest values of the coefficients can lie within that circle only. Since the circle has no sharp points, the contours of the circle will keep the coefficients from touching the axis to achieve the minimum RSS. This means that the values of coefficients achieved by Ridge will never be exactly zero, but rather they will approach zero as the value of $λ$ increases.\n",
        "\n",
        "On the other hand, Lasso regression uses the L1 norm of the coefficient vector as the penalty term. The penalty equation for Lasso can be represented as $λΣ(|coeff|)$, where $λ$ is the tuning parameter, and the bars denote the absolute value of the coefficients. The L1 penalty equation is of a diamond, and to achieve the minimum RSS, the contours will touch the axis, indicating zero values. This means that Lasso can effectively reduce the number of features used for prediction and also lead to sparse models. Lasso reduces the coefficients to exactly zero, which is useful when trying to identify a subset of features that are important for making accurate predictions.\n",
        "\n",
        "In summary, L1 regularization (Lasso) can reduce the coefficients to exactly zero, making it useful for feature selection, while L2 regularization (Ridge) only approaches zero as the value of the tuning parameter increases. The difference between the two approaches lies in the shape of their penalty equations. The circular shape of the L2 penalty equation means that the smallest values of the coefficients can only lie within that circle, while the diamond shape of the L1 penalty equation means that the contours can touch the axis, allowing the coefficients to be reduced to zero.\n",
        "\n",
        "\n",
        "\n"
      ]
    },
    {
      "cell_type": "markdown",
      "id": "drTqdIVkME6h",
      "metadata": {
        "id": "drTqdIVkME6h"
      },
      "source": [
        "### **Think about it - I**\n",
        "\n",
        "Suppose you are working on a machine learning project where you have a large number of features, and you suspect that some of them may be irrelevant or redundant. You have tried using L1 regularization (Lasso) to perform feature selection, but you have found that it is too aggressive and is eliminating some potentially useful features along with the irrelevant ones. On the other hand, using L2 regularization (Ridge) has not been effective in reducing the number of features, and your model is still overfitting. What approach could you take to address this problem, and what advantages might it offer over L1 and L2 regularization alone?"
      ]
    },
    {
      "cell_type": "markdown",
      "id": "XbBMyGa4ONqH",
      "metadata": {
        "id": "XbBMyGa4ONqH"
      },
      "source": [
        "**Before we dive into building our regression models from scratch with numpy, let's review a few important concepts of object-oriented programming in Python. If you're already familiar with these concepts, feel free to skip ahead to the next section.**"
      ]
    },
    {
      "cell_type": "markdown",
      "id": "FF-Dg9VVO_qd",
      "metadata": {
        "id": "FF-Dg9VVO_qd"
      },
      "source": [
        "## **Basics of Object-Oriented Programming in Python**\n",
        "\n",
        "Object-oriented programming (OOP) is a programming paradigm based on the concept of \"objects\" which contain both data and methods that operate on that data. Python is an object-oriented language, which means it has built-in support for OOP concepts such as encapsulation, inheritance, and polymorphism.\n",
        "\n",
        "1. Encapsulation: This concept refers to the practice of bundling data and the  ethods that operate on that data into a single unit, which can then be treated as a black box. The data can be accessed and manipulated only through the methods of the object. In Python, encapsulation is achieved through the use of class and object instances.\n",
        "  * Class: A class is a blueprint for creating objects that defines a set of attributes and methods that are common to all objects of that class.\n",
        "\n",
        "  * Object: An object is an instance of a class that has its own attributes and methods.\n",
        "\n",
        "  * Init method: The` __init__()` method is a special method that is automatically called when an object is created from a class. This method initializes the attributes of the class and can take parameters that are passed when the object is created.\n",
        "\n",
        "  * Self: The `self` keyword refers to the object itself and is used to access its attributes and methods within a class.\n",
        "\n",
        "  * Methods: Methods are functions that are defined inside a class and are used to perform certain actions on the object.\n",
        "\n",
        "2. Inheritance: This concept refers to the ability of a class to inherit the properties and methods of another class. The class that is being inherited from is called the parent or base class, and the class that is inheriting from it is called the child or derived class.\n",
        "\n",
        "3. Polymorphism: This concept refers to the ability of objects of different classes to be treated as if they were of the same class. This is typically achieved through the use of inheritance and method overriding.\n",
        "\n",
        "\n"
      ]
    },
    {
      "cell_type": "code",
      "execution_count": null,
      "id": "2DcV_AsNSD2o",
      "metadata": {
        "colab": {
          "base_uri": "https://localhost:8080/"
        },
        "id": "2DcV_AsNSD2o",
        "outputId": "1f4ec5fd-ad44-49a0-d570-1f7ffbbe7239"
      },
      "outputs": [
        {
          "name": "stdout",
          "output_type": "stream",
          "text": [
            "550\n"
          ]
        }
      ],
      "source": [
        "class BankAccount:\n",
        "    def __init__(self, name, balance):\n",
        "        self.name = name\n",
        "        self.balance = balance\n",
        "\n",
        "    def deposit(self, amount):\n",
        "        self.balance += amount\n",
        "\n",
        "    def withdraw(self, amount):\n",
        "        if self.balance - amount < 0:\n",
        "            print(\"Insufficient funds\")\n",
        "        else:\n",
        "            self.balance -= amount\n",
        "\n",
        "account = BankAccount(\"UserName\", 500)\n",
        "account.deposit(100)\n",
        "account.withdraw(50)\n",
        "print(account.balance)\n"
      ]
    },
    {
      "cell_type": "markdown",
      "id": "AUgEmqRHSWTo",
      "metadata": {
        "id": "AUgEmqRHSWTo"
      },
      "source": [
        "In this example, we define a `BankAccount` class that encapsulates the data (name and balance) and the methods (deposit and withdraw) that operate on that data. We create an instance of the class and use its methods to deposit and withdraw funds.\n",
        "We define the class with `__init__()` method, in this example we are defining a bank account with a user's name and the balance. While creating methods such as `deposit()`, we first call `self.balance` which identifies the account's or that class's balance and then we update it.\n",
        "Once class and it's features (data and methods) are defined, we can generate multiple objects of it. For example, here, we create an object called `account`.\n",
        "So when we run the code `account.deposit(100)`, it updates the previous balance which was 500 as we initialized the object with 500 and adds 100.\n",
        "We can check the balance with the code `print(account.balance)`."
      ]
    },
    {
      "cell_type": "markdown",
      "id": "H0nOatCPTh8O",
      "metadata": {
        "id": "H0nOatCPTh8O"
      },
      "source": [
        "In this project, we will primarily be using the concept of encapsulation in object-oriented programming. However, feel free to explore and experiment with other concepts such as inheritance and polymorphism to enhance your understanding of Python OOP. These concepts can be useful for building more complex models or working with larger codebases."
      ]
    },
    {
      "cell_type": "markdown",
      "id": "8c489a6a",
      "metadata": {
        "id": "8c489a6a"
      },
      "source": [
        "## **Model Building with Numpy**"
      ]
    },
    {
      "cell_type": "markdown",
      "id": "Um5M-b4aCRYs",
      "metadata": {
        "id": "Um5M-b4aCRYs"
      },
      "source": [
        "### **Linear Regression: Code Explanation**\n",
        "\n",
        "The code is an implementation of linear regression using gradient descent as the optimization algorithm.\n",
        "\n",
        "The class `LinearRegression` has two hyperparameters - `lr` and `n_iter`. `lr` stands for the learning rate, which determines the step size in the gradient descent algorithm. `n_iter` stands for the number of iterations that the algorithm will run. `self.weights` and `self.bias` have been initialized as None.\n",
        "\n",
        "The `fit()` method is used to train the model on a given set of input features X and output variable y. The first step in the `fit()` method is to initialize the model parameters `self.weights` and `self.bias`. The weights are initialized as an array of zeros and the bias is initialized to 0.\n",
        "\n",
        "The loop in the `fit()` method runs for `n_iter` iterations. In each iteration, the model makes a prediction `y_pred` for the given input `X`. Then, the gradients `dW` and `db` are computed using the prediction and the true values `y`. The gradients represent the direction of steepest ascent in the cost function. The weights and bias are then updated using the computed gradients and the learning rate `lr`.\n",
        "\n",
        "The term `np.dot(X, self.weights)` represents the linear combination of the features in the input data `X` weighted by the coefficients `self.weights`. This dot product gives the predicted output value for each input sample. The term `self.bias` is added to the result of the dot product to give the final predicted output value.\n",
        "\n",
        "In other words, the dot product of the input data and the model's learned coefficients gives a weighted sum of the input features, and the bias term is added to this to shift the prediction up or down by a constant amount. The resulting value is the predicted output for the given input sample.\n",
        "\n",
        "The `predict()` method is used to make predictions on new data using the trained model. It takes input features `X` and returns the predicted output `y_pred`.\n"
      ]
    },
    {
      "cell_type": "code",
      "execution_count": null,
      "id": "6ea735e4",
      "metadata": {
        "id": "6ea735e4"
      },
      "outputs": [],
      "source": [
        "class LinearRegression:\n",
        "    def __init__(self, lr=0.01, n_iter=1000):\n",
        "        # hyperparameters initialization\n",
        "        self.lr = lr\n",
        "        self.n_iter = n_iter\n",
        "        self.weights = None\n",
        "        self.bias = None\n",
        "\n",
        "    def fit(self, X, y):\n",
        "        n_samples, n_features = X.shape\n",
        "\n",
        "        # parameter initialization\n",
        "        self.weights = np.zeros(n_features)\n",
        "        self.bias = 0\n",
        "\n",
        "        for _ in range(self.n_iter):\n",
        "            # prediction\n",
        "            y_pred = self.predict(X)\n",
        "\n",
        "            # y = Wx+b\n",
        "\n",
        "            # compute gradients\n",
        "            dW = np.dot(X.T, (y_pred - y)) / n_samples\n",
        "            db = np.sum(y_pred - y) / n_samples\n",
        "\n",
        "            # update parameters\n",
        "            self.weights -= self.lr * dW\n",
        "            self.bias -= self.lr * db\n",
        "\n",
        "    def predict(self, X):\n",
        "        return np.dot(X, self.weights) + self.bias\n"
      ]
    },
    {
      "cell_type": "markdown",
      "id": "tikeaEbNEP_7",
      "metadata": {
        "id": "tikeaEbNEP_7"
      },
      "source": [
        "### **Ridge Regression: Code Explanation**\n",
        "\n",
        "The code is similar to the Linear Regression code, but the only difference is the addition of the Ridge regularization term in the gradient calculation.\n",
        "\n",
        "In the Ridge Regression, the cost function is defined as:\n",
        "\n",
        "`cost = MSE + alpha * sum(W^2)`\n",
        "\n",
        "where MSE is the mean squared error, W is the weight of the linear regression, and alpha is the regularization strength parameter.\n",
        "\n",
        "The gradient of the cost function w.r.t W is calculated as:\n",
        "\n",
        "`dW = (-(2np.dot(X.T,(y-y_pred))) + (2self.alpha*self.weights)) / n_samples`\n",
        "\n",
        "where X is the input data, y is the true labels, y_pred is the predicted labels, and n_samples is the number of samples in the data. The gradient of the cost function w.r.t bias is calculated as:\n",
        "\n",
        "`db = -2*np.sum(y_pred - y) / n_samples`\n",
        "\n"
      ]
    },
    {
      "cell_type": "code",
      "execution_count": null,
      "id": "76fddfb6",
      "metadata": {
        "id": "76fddfb6"
      },
      "outputs": [],
      "source": [
        "class RidgeRegression:\n",
        "    def __init__(self, alpha =1, lr=0.01, n_iter=1000):\n",
        "        # hyperparameters initialization\n",
        "        self.alpha = alpha\n",
        "        self.lr = lr\n",
        "        self.n_iter = n_iter\n",
        "        self.weights = None\n",
        "        self.bias = None\n",
        "\n",
        "    def fit(self, X, y):\n",
        "        n_samples, n_features = X.shape\n",
        "\n",
        "        # parameter initialization\n",
        "        self.weights = np.zeros(n_features)\n",
        "        self.bias = 0\n",
        "\n",
        "        for _ in range(self.n_iter):\n",
        "            # prediction\n",
        "            y_pred = self.predict(X)\n",
        "\n",
        "            #cost = MSE + alpha*W**2\n",
        "\n",
        "            # compute gradients\n",
        "            dW = (-(2*np.dot(X.T,(y-y_pred)))+(2*self.alpha*self.weights)) / n_samples\n",
        "            db = -2*np.sum(y_pred - y) / n_samples\n",
        "\n",
        "            # update parameters\n",
        "            self.weights -= self.lr * dW\n",
        "            self.bias -= self.lr * db\n",
        "\n",
        "    def predict(self, X):\n",
        "        return np.dot(X, self.weights) + self.bias"
      ]
    },
    {
      "cell_type": "markdown",
      "id": "Gj4HnDcdE0tt",
      "metadata": {
        "id": "Gj4HnDcdE0tt"
      },
      "source": [
        "### **Lasso Regression: Code Explanation**\n",
        "\n",
        "The code is an implementation of Lasso Regression, a linear regression algorithm with L1 regularization. The key differences from Ridge Regression include the cost function and the calculation of the weight gradients.\n",
        "\n",
        "In Lasso Regression, the cost function includes an L1 regularization term (i.e., the absolute value of the weights) as opposed to an L2 regularization term (i.e., the square of the weights) in Ridge Regression. The cost function can be expressed as:\n",
        "\n",
        "`cost = MSE + alpha * sum(|W|)`\n",
        "Where MSE is the Mean Squared Error, alpha is the regularization strength, and W is the vector of weights.\n",
        "\n",
        "The weight gradients are calculated as:\n",
        "`dW = (-(2*np.dot(X.T,(y-y_pred))) + (self.alpha)) / n_samples`\n",
        "\n",
        "Here, the absolute value of the weight is included in the regularization term by adding a constant `(self.alpha)` to the gradients. This ensures that some of the weights are forced to zero during training, effectively performing feature selection.\n",
        "\n",
        "The bias term is updated as in the Ridge Regression algorithm."
      ]
    },
    {
      "cell_type": "code",
      "execution_count": null,
      "id": "162d0388",
      "metadata": {
        "id": "162d0388"
      },
      "outputs": [],
      "source": [
        "class LassoRegression:\n",
        "    def __init__(self, alpha =1, lr=0.01, n_iter=1000):\n",
        "        # hyperparameters initialization\n",
        "        self.alpha = alpha\n",
        "        self.lr = lr\n",
        "        self.n_iter = n_iter\n",
        "        self.weights = None\n",
        "        self.bias = None\n",
        "\n",
        "    def fit(self, X, y):\n",
        "        n_samples, n_features = X.shape\n",
        "\n",
        "        # parameter initialization\n",
        "        self.weights = np.zeros(n_features)\n",
        "        self.bias = 0\n",
        "\n",
        "        # cost = MSE + alpha*|W|\n",
        "\n",
        "        for _ in range(self.n_iter):\n",
        "            # prediction\n",
        "            y_pred = self.predict(X)\n",
        "\n",
        "            # compute gradients\n",
        "            dW = (-(2*np.dot(X.T,(y-y_pred)))+(self.alpha)) / n_samples\n",
        "            db = -2*np.sum(y_pred - y) / n_samples\n",
        "\n",
        "            # update parameters\n",
        "            self.weights -= self.lr * dW\n",
        "            self.bias -= self.lr * db\n",
        "\n",
        "    def predict(self, X):\n",
        "        return np.dot(X, self.weights) + self.bias"
      ]
    },
    {
      "cell_type": "markdown",
      "id": "GABZUdAPFNx3",
      "metadata": {
        "id": "GABZUdAPFNx3"
      },
      "source": [
        "## **Model Implementation**"
      ]
    },
    {
      "cell_type": "markdown",
      "id": "372c6968",
      "metadata": {
        "id": "372c6968"
      },
      "source": [
        "#### **Linear Model**"
      ]
    },
    {
      "cell_type": "code",
      "execution_count": null,
      "id": "80287bba",
      "metadata": {
        "id": "80287bba"
      },
      "outputs": [],
      "source": [
        "linear_model = LinearRegression(lr=.00001, n_iter=100)\n",
        "linear_model.fit(X_train, y_train)\n",
        "linear_predict = linear_model.predict(X_test)"
      ]
    },
    {
      "cell_type": "markdown",
      "id": "1ab0fb91",
      "metadata": {
        "id": "1ab0fb91"
      },
      "source": [
        "#### **Lasso Model**"
      ]
    },
    {
      "cell_type": "code",
      "execution_count": null,
      "id": "7399cbcf",
      "metadata": {
        "id": "7399cbcf"
      },
      "outputs": [],
      "source": [
        "lasso_model = LassoRegression(alpha=0.03, lr=.00001, n_iter=100)\n",
        "lasso_model.fit(X_train, y_train)\n",
        "lasso_predict = lasso_model.predict(X_test)"
      ]
    },
    {
      "cell_type": "markdown",
      "id": "298d60a0",
      "metadata": {
        "id": "298d60a0"
      },
      "source": [
        "#### **Ridge Model**"
      ]
    },
    {
      "cell_type": "code",
      "execution_count": null,
      "id": "be451806",
      "metadata": {
        "id": "be451806"
      },
      "outputs": [],
      "source": [
        "ridge_model = RidgeRegression(alpha=0.03, lr=.00001, n_iter=100)\n",
        "ridge_model.fit(X_train, y_train)\n",
        "ridge_predict = ridge_model.predict(X_test)"
      ]
    },
    {
      "cell_type": "markdown",
      "id": "a8a7ec11",
      "metadata": {
        "id": "a8a7ec11"
      },
      "source": [
        "## **Model Evaluation**"
      ]
    },
    {
      "cell_type": "markdown",
      "id": "827eaed8",
      "metadata": {
        "id": "827eaed8"
      },
      "source": [
        "#### **MSE**"
      ]
    },
    {
      "cell_type": "code",
      "execution_count": null,
      "id": "c6606e7a",
      "metadata": {
        "id": "c6606e7a"
      },
      "outputs": [],
      "source": [
        "def mean_squared_error(y_true, y_pred):\n",
        "        return np.mean((y_true - y_pred) ** 2)"
      ]
    },
    {
      "cell_type": "markdown",
      "id": "5880f746",
      "metadata": {
        "id": "5880f746"
      },
      "source": [
        "#### **R2 Score**"
      ]
    },
    {
      "cell_type": "markdown",
      "id": "wz5PIFIJyZfv",
      "metadata": {
        "id": "wz5PIFIJyZfv"
      },
      "source": [
        "The function `r2_score` takes two arguments `y_true` and `y_pred`, which represent the true and predicted values of the target variable, respectively. The function computes the correlation matrix between these two arrays using the `np.corrcoef` function from the NumPy library.\n",
        "\n",
        "We are calculating the correlation matrix to measure the linear relationship between the predicted values and the true values. The correlation matrix is a square matrix where each element represents the correlation coefficient between two variables. In this case, we are interested in the correlation between the true values (y_true) and the predicted values (y_pred). The correlation coefficient ranges from -1 to 1, with 1 indicating a perfect positive correlation, 0 indicating no correlation, and -1 indicating a perfect negative correlation.\n",
        "\n",
        "By calculating the correlation matrix, we can determine how well the predicted values match the true values. If there is a high positive correlation between the two, then the predicted values are a good fit for the true values, and the R-squared score will be close to 1. If there is a low correlation or a negative correlation, then the predicted values are not a good fit for the true values, and the R-squared score will be close to 0.\n",
        "\n",
        " Since `y_true` and `y_pred` are both 1-dimensional arrays, the correlation matrix has shape (2, 2).\n",
        "\n",
        "The function then extracts the correlation coefficient (i.e., the off-diagonal element) from the correlation matrix using `corr_matrix[0, 1]`. This coefficient represents the strength and direction of the linear relationship between `y_true` and `y_pred`.\n",
        "\n",
        "In other words Coefficient of Determination is the square of Coefficient of Correlation, and hence lastly we take `corr**2`."
      ]
    },
    {
      "cell_type": "code",
      "execution_count": null,
      "id": "32762e62",
      "metadata": {
        "id": "32762e62"
      },
      "outputs": [],
      "source": [
        "def r2_score(y_true, y_pred):\n",
        "    corr_matrix = np.corrcoef(y_true, y_pred)\n",
        "    print(corr_matrix)\n",
        "    corr = corr_matrix[0, 1]\n",
        "    return corr ** 2"
      ]
    },
    {
      "cell_type": "code",
      "execution_count": null,
      "id": "be4e5860",
      "metadata": {
        "id": "be4e5860",
        "outputId": "d9830346-cafc-4915-af2d-54b1cceff5a9"
      },
      "outputs": [
        {
          "name": "stdout",
          "output_type": "stream",
          "text": [
            "MSE of Linear Model :  4.288101722760345\n",
            "MSE of Lasso Model :  2.849692797681988\n",
            "MSE of Ridge Model :  2.8496948261295376\n"
          ]
        }
      ],
      "source": [
        "print(\"MSE of Linear Model : \", mean_squared_error(y_test, linear_predict))\n",
        "print(\"MSE of Lasso Model : \", mean_squared_error(y_test, lasso_predict))\n",
        "print(\"MSE of Ridge Model : \", mean_squared_error(y_test, ridge_predict))"
      ]
    },
    {
      "cell_type": "code",
      "execution_count": null,
      "id": "2e0b40fb",
      "metadata": {
        "id": "2e0b40fb",
        "outputId": "12278586-b7d2-408e-92cb-2776f910a71d"
      },
      "outputs": [
        {
          "name": "stdout",
          "output_type": "stream",
          "text": [
            "[[1.         0.96521229]\n",
            " [0.96521229 1.        ]]\n",
            "R2 Score of Linear Model :  0.9316347693382256\n",
            "[[1.         0.97366924]\n",
            " [0.97366924 1.        ]]\n",
            "R2 Score of Lasso Model :  0.9480317900859903\n",
            "[[1.         0.97366923]\n",
            " [0.97366923 1.        ]]\n",
            "R2 Score of Ridge Model :  0.9480317788420329\n"
          ]
        }
      ],
      "source": [
        "print(\"R2 Score of Linear Model : \", r2_score(y_test, linear_predict))\n",
        "print(\"R2 Score of Lasso Model : \", r2_score(y_test, lasso_predict))\n",
        "print(\"R2 Score of Ridge Model : \", r2_score(y_test, ridge_predict))"
      ]
    },
    {
      "cell_type": "markdown",
      "id": "uCU1hTfL1eCy",
      "metadata": {
        "id": "uCU1hTfL1eCy"
      },
      "source": [
        "### **Think about it -II**\n",
        "\n",
        "How can we use regression models to make accurate predictions in the presence of outliers in the data? What are some techniques for detecting and handling outliers, and how do they affect the performance and interpretability of the regression models?"
      ]
    },
    {
      "cell_type": "markdown",
      "id": "6QEotsMCAvln",
      "metadata": {
        "id": "6QEotsMCAvln"
      },
      "source": [
        "## **Try-it-out - I**\n",
        "\n",
        "\n",
        "* Implement a polynomial regression model using the existing code for simple linear regression. You can do this by adding additional powers of the input variable to the feature matrix X, such as X^2, X^3, etc. You can then fit a linear regression model to this expanded feature matrix to obtain a polynomial regression model. If you need background on Polynomial Regression, watch the project, [Learn to Build a Polynomial Regression Model from Scratch](https://www.projectpro.io/project-use-case/polynomial-regression-model-in-python-from-scratch) and refer to it's notebook.\n",
        "\n",
        "* Test the performance of the existing regression models on datasets with outliers. You can introduce outliers by randomly selecting some data points and changing their target values to be much higher or lower than the other values. You can then compare the performance of the regression models on the original dataset and the dataset with outliers to see how they are affected.\n",
        "\n",
        "* Experiment with different hyperparameters for the ridge and lasso regression models, such as the alpha parameter and the learning rate. You can do this by training the models with different hyperparameter values and comparing their performance on the same dataset.\n",
        "\n",
        "* Compare the results of regression models we built with the pre-built scikit-learn library regression models."
      ]
    },
    {
      "cell_type": "markdown",
      "id": "ShSs78P5B4P1",
      "metadata": {
        "id": "ShSs78P5B4P1"
      },
      "source": [
        "## **Linear Regression in Real Life**\n",
        "\n",
        "There are many real-world applications of linear regression. Exploring some of the best Linear Regression real-world applications will help us comprehend the concept more clearly.\n",
        "\n",
        "1. Humans are not an exception; everything has a shelf life. We can store vast amounts of information about a person's medical history and estimate how long they will live thanks to ongoing improvements in medical science technology and diagnostic tools.\n",
        "The term \"life expectancy\" describes the number of years one can expect to live. This application is frequently used by insurance companies and public healthcare organizations to increase their productivity and achieve organizational goals.\n",
        "\n",
        "2. A common method used by agricultural scientists to assess how fertilizer and water affect crop yields is linear regression.\n",
        "For instance, researchers may vary the water and fertilizer applications in various fields to observe the effects on crop yield. A multiple linear regression model can be used with crop yield as the target variable and fertilizer and water as the predictor variables.\n",
        "\n",
        "3. For professional sports teams, analysts use linear regression to gauge the impact of various training schedules on player performance. For instance, data scientists in the NBA may examine how various frequencies of yoga and weightlifting sessions each week affect a player's point total. With yoga and weightlifting sessions as the predictor variables and total points earned as the response variable, they could fit a multiple linear regression model. Here's another project that solves the same business problem, [Learn to Build a Polynomial Regression Model from Scratch](https://www.projectpro.io/project-use-case/polynomial-regression-model-in-python-from-scratch).\n"
      ]
    },
    {
      "cell_type": "markdown",
      "id": "DpV2Qd0sCJEh",
      "metadata": {
        "id": "DpV2Qd0sCJEh"
      },
      "source": [
        "## **Interview Questions**\n",
        "\n",
        "\n",
        "* What are the key steps involved in building a simple linear regression model in Numpy?\n",
        "\n",
        "* What is the difference between simple linear regression and multiple linear regression, and how do you implement each in Numpy?\n",
        "\n",
        "* How do you evaluate the performance of a linear regression model, and what are some of the key metrics to consider?\n",
        "\n",
        "* How do you handle missing values in a dataset before building a regression model in Numpy?\n",
        "\n",
        "* What is regularization, and why is it important in linear regression models? How do you implement regularization in Numpy?\n",
        "\n",
        "* Can you explain the concept of gradient descent, and how it is used to optimize the parameters of a linear regression model?\n",
        "\n",
        "* What are some of the assumptions underlying linear regression models, and how do violations of these assumptions affect the validity of the model?\n",
        "\n",
        "* How do you extend linear regression to handle non-linear relationships between the features and the target variable?\n",
        "\n",
        "* What is the difference between L1 and L2 regularization, and when is each one used?"
      ]
    },
    {
      "cell_type": "markdown",
      "id": "VLYdnclAlj3J",
      "metadata": {
        "id": "VLYdnclAlj3J"
      },
      "source": [
        "\n",
        "<h1><center>Thank you for choosing ProjectPro!</center></h1>\n"
      ]
    },
    {
      "cell_type": "code",
      "execution_count": null,
      "id": "4f0b54ad",
      "metadata": {
        "id": "4f0b54ad"
      },
      "outputs": [],
      "source": []
    }
  ],
  "metadata": {
    "colab": {
      "provenance": []
    },
    "kernelspec": {
      "display_name": "Python 3 (ipykernel)",
      "language": "python",
      "name": "python3"
    },
    "language_info": {
      "codemirror_mode": {
        "name": "ipython",
        "version": 3
      },
      "file_extension": ".py",
      "mimetype": "text/x-python",
      "name": "python",
      "nbconvert_exporter": "python",
      "pygments_lexer": "ipython3",
      "version": "3.8.10"
    }
  },
  "nbformat": 4,
  "nbformat_minor": 5
}
